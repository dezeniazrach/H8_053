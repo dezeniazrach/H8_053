{
 "cells": [
  {
   "cell_type": "markdown",
   "metadata": {},
   "source": [
    "Flow dari programming: dari atas ke bawah"
   ]
  },
  {
   "cell_type": "markdown",
   "metadata": {},
   "source": [
    "## Conditional\n",
    "if <exp> sesuai = continue, if <exp> tidak sesuai = break\n",
    "    harus perhatikan indentasi "
   ]
  },
  {
   "cell_type": "code",
   "execution_count": 1,
   "metadata": {},
   "outputs": [
    {
     "name": "stdout",
     "output_type": "stream",
     "text": [
      "['Adit', 'Bagus', 'Daniel', 'Dezenia', 'Ilham', 'Maria', 'Yusuf']\n",
      "['Satya', 'Richard', 'Stefani', 'Timotius', 'Veronica', 'Viony', 'Yoga']\n"
     ]
    }
   ],
   "source": [
    "names = [\"Adit\", \"Bagus\", \"Daniel\", \"Dezenia\", \n",
    "         \"Ilham\", \"Maria\", \"Yusuf\"]\n",
    "others = [\"Satya\", \"Richard\", \"Stefani\", \n",
    "          \"Timotius\", \"Veronica\", \"Viony\", \"Yoga\"]\n",
    "print(names)\n",
    "print(others)"
   ]
  },
  {
   "cell_type": "code",
   "execution_count": 15,
   "metadata": {},
   "outputs": [
    {
     "name": "stdout",
     "output_type": "stream",
     "text": [
      "Yes! 0 < 50\n",
      "Yes! 0 < 50\n",
      "name: satya is in others\n",
      "satyasatyasatya\n"
     ]
    }
   ],
   "source": [
    "x = 0\n",
    "y = 50\n",
    "z = \"satya\"\n",
    "\n",
    "if x < y:\n",
    "    print(f\"Yes! {x} < {y}\") #f untuk substitusi \n",
    "    print(\"Yes! {} < {}\".format(x,y))\n",
    "\n",
    "if z.title() in others:\n",
    "    print(f\"name: {z} is in others\") #gak akan jalan karena beda huruf S nya makanya diubah pakai z.title\n",
    "    print(z * 3)\n",
    "else:\n",
    "    print(f\"{z} is not in others\")"
   ]
  },
  {
   "cell_type": "code",
   "execution_count": 5,
   "metadata": {},
   "outputs": [
    {
     "ename": "NameError",
     "evalue": "name 'z' is not defined",
     "output_type": "error",
     "traceback": [
      "\u001b[1;31m---------------------------------------------------------------------------\u001b[0m",
      "\u001b[1;31mNameError\u001b[0m                                 Traceback (most recent call last)",
      "\u001b[1;32m<ipython-input-5-6c0576e71143>\u001b[0m in \u001b[0;36m<module>\u001b[1;34m\u001b[0m\n\u001b[1;32m----> 1\u001b[1;33m \u001b[1;32mif\u001b[0m \u001b[0mz\u001b[0m \u001b[1;32min\u001b[0m \u001b[0mothers\u001b[0m\u001b[1;33m:\u001b[0m\u001b[1;33m\u001b[0m\u001b[1;33m\u001b[0m\u001b[0m\n\u001b[0m\u001b[0;32m      2\u001b[0m     \u001b[0mprint\u001b[0m\u001b[1;33m(\u001b[0m\u001b[1;34mf\"name: {z} is in others\"\u001b[0m\u001b[1;33m)\u001b[0m\u001b[1;33m\u001b[0m\u001b[1;33m\u001b[0m\u001b[0m\n\u001b[0;32m      3\u001b[0m     \u001b[0mprint\u001b[0m\u001b[1;33m(\u001b[0m\u001b[0mz\u001b[0m \u001b[1;33m*\u001b[0m \u001b[1;36m3\u001b[0m\u001b[1;33m)\u001b[0m\u001b[1;33m\u001b[0m\u001b[1;33m\u001b[0m\u001b[0m\n\u001b[0;32m      4\u001b[0m \u001b[0mprint\u001b[0m\u001b[1;33m(\u001b[0m\u001b[1;34mf\"{z} is not in others\"\u001b[0m\u001b[1;33m)\u001b[0m\u001b[1;33m\u001b[0m\u001b[1;33m\u001b[0m\u001b[0m\n",
      "\u001b[1;31mNameError\u001b[0m: name 'z' is not defined"
     ]
    }
   ],
   "source": [
    "if z in others:\n",
    "    print(f\"name: {z} is in others\")\n",
    "    print(z * 3)\n",
    "print(f\"{z} is not in others\") #oops, ini tadinya udah bisa running cuman karena aku edit terus aku ingat kalau python itu based on last operator jadina error"
   ]
  },
  {
   "cell_type": "code",
   "execution_count": 16,
   "metadata": {},
   "outputs": [
    {
     "name": "stdout",
     "output_type": "stream",
     "text": [
      "juts buy magazines\n"
     ]
    }
   ],
   "source": [
    "book_price = 1000\n",
    "mag_price = 500\n",
    "money = 600\n",
    "\n",
    "if money >= book_price:\n",
    "    print(\"lets's buy a book\")\n",
    "elif money >= mag_price:\n",
    "    print(\"juts buy magazines\")\n",
    "else:\n",
    "    print(\"let's collect more money\")"
   ]
  },
  {
   "cell_type": "code",
   "execution_count": 6,
   "metadata": {},
   "outputs": [
    {
     "name": "stdout",
     "output_type": "stream",
     "text": [
      "remedy\n"
     ]
    }
   ],
   "source": [
    "min_score = .7\n",
    "score = .65\n",
    "\n",
    "if score > min_score:\n",
    "    print(\"success\")\n",
    "else:\n",
    "    print(\"remedy\")"
   ]
  },
  {
   "cell_type": "markdown",
   "metadata": {},
   "source": [
    "#function: pake kurung biasa (), print, len, str, int\n",
    "#dictionary, subtitusi var: pake kurung kurawal {}\n",
    "#kurung siku [] indexing"
   ]
  },
  {
   "cell_type": "markdown",
   "metadata": {},
   "source": [
    "## Looping"
   ]
  },
  {
   "cell_type": "markdown",
   "metadata": {},
   "source": [
    "#Python \"while\" Loops\n",
    "#mirip-mirip dengan if\n",
    "#kalau while akan selalu menjalankan selama kondisinya benar"
   ]
  },
  {
   "cell_type": "code",
   "execution_count": 8,
   "metadata": {},
   "outputs": [
    {
     "name": "stdout",
     "output_type": "stream",
     "text": [
      "1 less than 7\n",
      "1 less than 7\n",
      "1 less than 7\n",
      "1 less than 7\n",
      "1 less than 7\n"
     ]
    }
   ],
   "source": [
    "score = 1\n",
    "min_score = 7\n",
    "\n",
    "if score < min_score:\n",
    "    print(score, \"less than {}\". format(min_score))\n",
    "    print(score, \"less than {}\". format(min_score))\n",
    "    print(score, \"less than {}\". format(min_score))\n",
    "    print(score, \"less than {}\". format(min_score))\n",
    "    print(score, \"less than {}\". format(min_score))"
   ]
  },
  {
   "cell_type": "code",
   "execution_count": 9,
   "metadata": {},
   "outputs": [
    {
     "name": "stdout",
     "output_type": "stream",
     "text": [
      "1 less than7\n",
      "2 less than7\n",
      "3 less than7\n",
      "4 less than7\n",
      "5 less than7\n",
      "6 less than7\n"
     ]
    }
   ],
   "source": [
    "#loop while\n",
    "while score < min_score: #selama score kurang dari min_score, print:\n",
    "    print(score, \"less than{}\". format(min_score))\n",
    "    score = score + 1 "
   ]
  },
  {
   "cell_type": "code",
   "execution_count": 1,
   "metadata": {},
   "outputs": [
    {
     "name": "stdout",
     "output_type": "stream",
     "text": [
      "['Adit', 'Bagus', 'Daniel', 'Dezenia', 'Ilham', 'Maria', 'Yusuf']\n"
     ]
    }
   ],
   "source": [
    "names = [\"Adit\", \"Bagus\", \"Daniel\", \"Dezenia\", \n",
    "         \"Ilham\", \"Maria\", \"Yusuf\"]\n",
    "print(names)"
   ]
  },
  {
   "cell_type": "code",
   "execution_count": 2,
   "metadata": {
    "scrolled": true
   },
   "outputs": [
    {
     "name": "stdout",
     "output_type": "stream",
     "text": [
      "0 name: Adit\n",
      "1 name: Bagus\n",
      "2 name: Daniel\n",
      "3 name: Dezenia\n",
      "4 name: Ilham\n",
      "5 name: Maria\n",
      "6 name: Yusuf\n",
      "0 name: Adit\n",
      "2 name: Daniel\n",
      "4 name: Ilham\n",
      "6 name: Yusuf\n"
     ]
    }
   ],
   "source": [
    "idx = 0\n",
    "while idx < len(names): #selama idx kurang dari len names, maka print.....\n",
    "    print(idx, \"name:\", names[idx])\n",
    "    idx = idx + 1\n",
    "\n",
    "idx = 0\n",
    "while idx < len(names):\n",
    "    print(idx, \"name:\", names[idx])\n",
    "    idx = idx + 2"
   ]
  },
  {
   "cell_type": "code",
   "execution_count": 5,
   "metadata": {},
   "outputs": [
    {
     "name": "stdout",
     "output_type": "stream",
     "text": [
      "0 name: Adit\n",
      "1 name: Bagus\n"
     ]
    }
   ],
   "source": [
    "idx = 0\n",
    "while idx < len(names): #selama idx kurang dari len names, jika idx sama dengan 2, maka break\n",
    "    if idx == 2:\n",
    "        break #looping dihentikan jika idx sama dengan 2\n",
    "    print(idx, \"name:\", names[idx])\n",
    "    idx = idx +1"
   ]
  },
  {
   "cell_type": "code",
   "execution_count": 6,
   "metadata": {},
   "outputs": [
    {
     "name": "stdout",
     "output_type": "stream",
     "text": [
      "1 name: Bagus\n",
      "2 name: Daniel\n",
      "4 name: Ilham\n",
      "5 name: Maria\n"
     ]
    }
   ],
   "source": [
    "#skip name with index 0,3,6,9, etc\n",
    "idx = 0\n",
    "while idx < len(names):\n",
    "    if (idx % 3 == 0):\n",
    "        idx = idx + 1\n",
    "        continue\n",
    "    print(idx, \"name:\", names[idx])\n",
    "    idx = idx + 1"
   ]
  },
  {
   "cell_type": "code",
   "execution_count": 7,
   "metadata": {},
   "outputs": [
    {
     "name": "stdout",
     "output_type": "stream",
     "text": [
      "[20000, 30000, 50000, -25000, 10000]\n"
     ]
    }
   ],
   "source": [
    "tagihan = [20000, 30000, 50000, -25000, 10000]\n",
    "print(tagihan)"
   ]
  },
  {
   "cell_type": "code",
   "execution_count": 8,
   "metadata": {},
   "outputs": [
    {
     "name": "stdout",
     "output_type": "stream",
     "text": [
      "0\n",
      "0\n",
      "0\n",
      "0\n",
      "0\n"
     ]
    }
   ],
   "source": [
    "i = 0\n",
    "total_tagihan = 0\n",
    "while i < len(tagihan):\n",
    "    if i < 0:\n",
    "        break\n",
    "    print(total_tagihan)\n",
    "    i = i + 1"
   ]
  },
  {
   "cell_type": "code",
   "execution_count": 3,
   "metadata": {},
   "outputs": [
    {
     "name": "stdout",
     "output_type": "stream",
     "text": [
      "['Satya', 'Richard', 'Stefani', 'Timotius', 'Veronica', 'Viony', 'Yoga']\n",
      "Satya\n",
      "Richard\n",
      "Stefani\n",
      "Timotius\n",
      "Veronica\n",
      "Viony\n",
      "Yoga\n"
     ]
    }
   ],
   "source": [
    "#for loop\n",
    "others = [\"Satya\", \"Richard\", \"Stefani\", \n",
    "          \"Timotius\", \"Veronica\", \"Viony\", \"Yoga\"]\n",
    "print(others)\n",
    "\n",
    "for name in others:\n",
    "    print(name)"
   ]
  },
  {
   "cell_type": "code",
   "execution_count": 4,
   "metadata": {},
   "outputs": [
    {
     "name": "stdout",
     "output_type": "stream",
     "text": [
      "1\n",
      "2\n",
      "3\n",
      "4\n",
      "5\n",
      "6\n",
      "7\n",
      "8\n",
      "9\n",
      "10\n"
     ]
    }
   ],
   "source": [
    "for i in [1, 2, 3, 4, 5, 6, 7, 8, 9, 10]:\n",
    "    print(i)"
   ]
  },
  {
   "cell_type": "code",
   "execution_count": 7,
   "metadata": {},
   "outputs": [
    {
     "name": "stdout",
     "output_type": "stream",
     "text": [
      "Yoga Y o g\n"
     ]
    }
   ],
   "source": [
    "print(name, name[0], name[1], name[2])"
   ]
  },
  {
   "cell_type": "code",
   "execution_count": 8,
   "metadata": {},
   "outputs": [
    {
     "name": "stdout",
     "output_type": "stream",
     "text": [
      "name: Satya\n",
      "s-\n",
      "s-a-\n",
      "s-a-t-\n",
      "s-a-t-y-\n",
      "s-a-t-y-a-\n",
      "name: Richard\n",
      "r-\n",
      "r-i-\n",
      "r-i-c-\n",
      "r-i-c-h-\n",
      "r-i-c-h-a-\n",
      "r-i-c-h-a-r-\n",
      "r-i-c-h-a-r-d-\n",
      "name: Stefani\n",
      "s-\n",
      "s-t-\n",
      "s-t-e-\n",
      "s-t-e-f-\n",
      "s-t-e-f-a-\n",
      "s-t-e-f-a-n-\n",
      "s-t-e-f-a-n-i-\n",
      "name: Timotius\n",
      "t-\n",
      "t-i-\n",
      "t-i-m-\n",
      "t-i-m-o-\n",
      "t-i-m-o-t-\n",
      "t-i-m-o-t-i-\n",
      "t-i-m-o-t-i-u-\n",
      "t-i-m-o-t-i-u-s-\n",
      "name: Veronica\n",
      "v-\n",
      "v-e-\n",
      "v-e-r-\n",
      "v-e-r-o-\n",
      "v-e-r-o-n-\n",
      "v-e-r-o-n-i-\n",
      "v-e-r-o-n-i-c-\n",
      "v-e-r-o-n-i-c-a-\n",
      "name: Viony\n",
      "v-\n",
      "v-i-\n",
      "v-i-o-\n",
      "v-i-o-n-\n",
      "v-i-o-n-y-\n",
      "name: Yoga\n",
      "y-\n",
      "y-o-\n",
      "y-o-g-\n",
      "y-o-g-a-\n"
     ]
    }
   ],
   "source": [
    "#output \"s-a-t-y-a\"\n",
    "for name in others:\n",
    "    print(\"name:\", name)\n",
    "    s = \"\"\n",
    "    for char in name:\n",
    "        s = s + char + \"-\"\n",
    "        print(s.lower())"
   ]
  },
  {
   "cell_type": "code",
   "execution_count": 10,
   "metadata": {},
   "outputs": [
    {
     "name": "stdout",
     "output_type": "stream",
     "text": [
      "name: Adit\n",
      "a-d-i-t-\n",
      "name: Bagus\n",
      "b-a-g-u-s-\n",
      "name: Daniel\n",
      "d-a-n-i-e-l-\n",
      "name: Dezenia\n",
      "d-e-z-e-n-i-a-\n",
      "name: Ilham\n",
      "i-l-h-a-m-\n",
      "name: Maria\n",
      "m-a-r-i-a-\n",
      "name: Yusuf\n",
      "y-u-s-u-f-\n"
     ]
    }
   ],
   "source": [
    "# output \"s-a-t-y-a-\"\n",
    "names = [\"Adit\", \"Bagus\", \"Daniel\", \"Dezenia\", \n",
    "         \"Ilham\", \"Maria\", \"Yusuf\"]\n",
    "\n",
    "for name in names:\n",
    "    print(\"name:\", name)\n",
    "    s = \"\"\n",
    "    for char in name:\n",
    "        s = s + char + \"-\"\n",
    "    print(s.lower())"
   ]
  },
  {
   "cell_type": "markdown",
   "metadata": {},
   "source": [
    "#kenapa hasil In[8] dan In[10] beda ya?"
   ]
  },
  {
   "cell_type": "code",
   "execution_count": 12,
   "metadata": {},
   "outputs": [
    {
     "name": "stdout",
     "output_type": "stream",
     "text": [
      "[0, 1, 2, 3, 4, 5, 6, 7, 8, 9, 10, 11, 12, 13, 14, 15, 16, 17, 18, 19, 20, 21, 22, 23, 24, 25, 26, 27, 28, 29, 30, 31, 32, 33, 34, 35, 36, 37, 38, 39, 40, 41, 42, 43, 44, 45, 46, 47, 48, 49, 50, 51, 52, 53, 54, 55, 56, 57, 58, 59, 60, 61, 62, 63, 64, 65, 66, 67, 68, 69, 70, 71, 72, 73, 74, 75, 76, 77, 78, 79, 80, 81, 82, 83, 84, 85, 86, 87, 88, 89, 90, 91, 92, 93, 94, 95, 96, 97, 98, 99]\n"
     ]
    }
   ],
   "source": [
    "print(list(range(100)))"
   ]
  },
  {
   "cell_type": "code",
   "execution_count": 13,
   "metadata": {},
   "outputs": [
    {
     "name": "stdout",
     "output_type": "stream",
     "text": [
      "0 name: Adit\n",
      "1 name: Bagus\n",
      "2 name: Daniel\n",
      "4 name: Ilham\n",
      "5 name: Maria\n"
     ]
    }
   ],
   "source": [
    "for i in range(len(names)):\n",
    "    if (i % 3 == 0) and (i != 0):\n",
    "        continue\n",
    "    print(i, \"name:\", names[i])"
   ]
  },
  {
   "cell_type": "code",
   "execution_count": 14,
   "metadata": {},
   "outputs": [
    {
     "name": "stdout",
     "output_type": "stream",
     "text": [
      "{'names': ['harry', 'michael', 'jordan', 'super'], 'age': [18, 33, 24, 40], 'location': ['jakarta', 'bandung', 'surabaya', 'jogja']}\n"
     ]
    }
   ],
   "source": [
    "profiles = {\n",
    "    \"names\": [\"harry\", \"michael\", \"jordan\", \"super\"],\n",
    "    \"age\": [18, 33, 24, 40],\n",
    "    \"location\": [\"jakarta\", \"bandung\", \"surabaya\", \"jogja\"]\n",
    "}\n",
    "print(profiles)"
   ]
  },
  {
   "cell_type": "code",
   "execution_count": 16,
   "metadata": {},
   "outputs": [
    {
     "name": "stdout",
     "output_type": "stream",
     "text": [
      "dict_keys(['names', 'age', 'location'])\n",
      "dict_values([['harry', 'michael', 'jordan', 'super'], [18, 33, 24, 40], ['jakarta', 'bandung', 'surabaya', 'jogja']])\n"
     ]
    }
   ],
   "source": [
    "print(profiles.keys())\n",
    "print(profiles.values())"
   ]
  },
  {
   "cell_type": "code",
   "execution_count": 27,
   "metadata": {},
   "outputs": [
    {
     "ename": "TypeError",
     "evalue": "unhashable type: 'list'",
     "output_type": "error",
     "traceback": [
      "\u001b[1;31m---------------------------------------------------------------------------\u001b[0m",
      "\u001b[1;31mTypeError\u001b[0m                                 Traceback (most recent call last)",
      "\u001b[1;32m<ipython-input-27-2db84f437920>\u001b[0m in \u001b[0;36m<module>\u001b[1;34m\u001b[0m\n\u001b[0;32m      1\u001b[0m \u001b[1;32mfor\u001b[0m \u001b[0mvalue\u001b[0m \u001b[1;32min\u001b[0m \u001b[0mprofiles\u001b[0m\u001b[1;33m.\u001b[0m\u001b[0mvalues\u001b[0m\u001b[1;33m(\u001b[0m\u001b[1;33m)\u001b[0m\u001b[1;33m:\u001b[0m\u001b[1;33m\u001b[0m\u001b[1;33m\u001b[0m\u001b[0m\n\u001b[1;32m----> 2\u001b[1;33m     \u001b[0mprint\u001b[0m\u001b[1;33m(\u001b[0m\u001b[0mvalue\u001b[0m\u001b[1;33m,\u001b[0m \u001b[1;34m\"-\"\u001b[0m\u001b[1;33m,\u001b[0m \u001b[0mprofiles\u001b[0m\u001b[1;33m[\u001b[0m\u001b[0mvalue\u001b[0m\u001b[1;33m]\u001b[0m\u001b[1;33m)\u001b[0m\u001b[1;33m\u001b[0m\u001b[1;33m\u001b[0m\u001b[0m\n\u001b[0m",
      "\u001b[1;31mTypeError\u001b[0m: unhashable type: 'list'"
     ]
    }
   ],
   "source": [
    "for value in profiles.values():\n",
    "    print(value, \"-\", profiles[value])"
   ]
  },
  {
   "cell_type": "code",
   "execution_count": 26,
   "metadata": {
    "scrolled": true
   },
   "outputs": [
    {
     "name": "stdout",
     "output_type": "stream",
     "text": [
      "names - ['harry', 'michael', 'jordan', 'super']\n",
      "age - [18, 33, 24, 40]\n",
      "location - ['jakarta', 'bandung', 'surabaya', 'jogja']\n"
     ]
    }
   ],
   "source": [
    "for key in profiles.keys():\n",
    "    print(key, \"-\", profiles[key])"
   ]
  },
  {
   "cell_type": "code",
   "execution_count": 29,
   "metadata": {},
   "outputs": [
    {
     "name": "stdout",
     "output_type": "stream",
     "text": [
      "names - ['harry', 'michael', 'jordan', 'super']\n",
      "age - [18, 33, 24, 40]\n",
      "location - ['jakarta', 'bandung', 'surabaya', 'jogja']\n"
     ]
    }
   ],
   "source": [
    "for key, value in profiles.items():\n",
    "    print(key, \"-\", value)"
   ]
  },
  {
   "cell_type": "code",
   "execution_count": 30,
   "metadata": {},
   "outputs": [
    {
     "ename": "AttributeError",
     "evalue": "'dict' object has no attribute 'item'",
     "output_type": "error",
     "traceback": [
      "\u001b[1;31m---------------------------------------------------------------------------\u001b[0m",
      "\u001b[1;31mAttributeError\u001b[0m                            Traceback (most recent call last)",
      "\u001b[1;32m<ipython-input-30-9195f7939eba>\u001b[0m in \u001b[0;36m<module>\u001b[1;34m\u001b[0m\n\u001b[1;32m----> 1\u001b[1;33m \u001b[1;32mfor\u001b[0m \u001b[0mkey\u001b[0m\u001b[1;33m,\u001b[0m \u001b[0mvalue\u001b[0m \u001b[1;32min\u001b[0m \u001b[0mprofiles\u001b[0m\u001b[1;33m.\u001b[0m\u001b[0mitem\u001b[0m\u001b[1;33m(\u001b[0m\u001b[1;33m)\u001b[0m\u001b[1;33m:\u001b[0m\u001b[1;33m\u001b[0m\u001b[1;33m\u001b[0m\u001b[0m\n\u001b[0m\u001b[0;32m      2\u001b[0m     \u001b[0mprint\u001b[0m\u001b[1;33m(\u001b[0m\u001b[0mkey\u001b[0m\u001b[1;33m,\u001b[0m \u001b[1;34m\"-\"\u001b[0m\u001b[1;33m,\u001b[0m \u001b[0mvalue\u001b[0m\u001b[1;33m)\u001b[0m\u001b[1;33m\u001b[0m\u001b[1;33m\u001b[0m\u001b[0m\n",
      "\u001b[1;31mAttributeError\u001b[0m: 'dict' object has no attribute 'item'"
     ]
    }
   ],
   "source": [
    "for key, value in profiles.item():\n",
    "    print(key, \"-\", value)"
   ]
  },
  {
   "cell_type": "markdown",
   "metadata": {},
   "source": [
    "kenapa kata \"item\" dan \"items\" berbeda? case In[29] dan In[30]? Apakah karena terdiri banyak item maka menggunakan \"items\"?"
   ]
  },
  {
   "cell_type": "code",
   "execution_count": 31,
   "metadata": {},
   "outputs": [
    {
     "data": {
      "text/plain": [
       "['Adit', 'Bagus', 'Daniel', 'Dezenia', 'Ilham', 'Maria', 'Yusuf']"
      ]
     },
     "execution_count": 31,
     "metadata": {},
     "output_type": "execute_result"
    }
   ],
   "source": [
    "names"
   ]
  },
  {
   "cell_type": "code",
   "execution_count": 32,
   "metadata": {},
   "outputs": [
    {
     "name": "stdout",
     "output_type": "stream",
     "text": [
      "{'names': ['harry', 'michael', 'jordan', 'super'], 'age': [18, 33, 24, 40], 'location': ['jakarta', 'bandung', 'surabaya', 'jogja'], 'twos': [0, 2, 4, 6], 'threes': [0, 3, 6, 9], 'fours': [0, 4, 8, 12], 'fives': [0, 5, 10, 15], 'sixes': [0, 6, 12, 18]}\n"
     ]
    }
   ],
   "source": [
    "list_keys = [\"twos\", \"threes\", \"fours\", \"fives\", \"sixes\"] #nambah key di profiles\n",
    "multiplier = 2\n",
    "for key in list_keys:\n",
    "    value = []\n",
    "    for i in range(4):\n",
    "        value.append(i * multiplier)\n",
    "    multiplier = multiplier + 1\n",
    "    profiles[key] = value\n",
    "    \n",
    "print(profiles)"
   ]
  },
  {
   "cell_type": "code",
   "execution_count": 33,
   "metadata": {},
   "outputs": [
    {
     "data": {
      "text/plain": [
       "range(0, 4)"
      ]
     },
     "execution_count": 33,
     "metadata": {},
     "output_type": "execute_result"
    }
   ],
   "source": [
    "range(4)"
   ]
  }
 ],
 "metadata": {
  "kernelspec": {
   "display_name": "Python 3",
   "language": "python",
   "name": "python3"
  },
  "language_info": {
   "codemirror_mode": {
    "name": "ipython",
    "version": 3
   },
   "file_extension": ".py",
   "mimetype": "text/x-python",
   "name": "python",
   "nbconvert_exporter": "python",
   "pygments_lexer": "ipython3",
   "version": "3.8.5"
  }
 },
 "nbformat": 4,
 "nbformat_minor": 4
}
